{
 "cells": [
  {
   "cell_type": "code",
   "execution_count": 4,
   "metadata": {},
   "outputs": [],
   "source": [
    "from traitlets import HasTraits, TraitError, Int, Bool, validate\n",
    "\n",
    "class Parity(HasTraits):\n",
    "    value = Int()\n",
    "    parity = Int()\n",
    "\n",
    "    @validate('value')\n",
    "    def _valid_value(self, proposal):\n",
    "        if proposal['value'] % 2 != self.parity:\n",
    "            raise TraitError('value and parity should be consistent')\n",
    "        return proposal['value']\n",
    "\n",
    "    @validate('parity')\n",
    "    def _valid_parity(self, proposal):\n",
    "        parity = proposal['value']\n",
    "        if parity not in [0, 1]:\n",
    "            raise TraitError('parity should be 0 or 1')\n",
    "        if self.value % 2 != parity:\n",
    "            raise TraitError('value and parity should be consistent')\n",
    "        return proposal['value']\n",
    "\n",
    "parity_check = Parity(value=2)\n",
    "\n",
    "# Changing required parity and value together while holding cross validation\n",
    "with parity_check.hold_trait_notifications():\n",
    "    parity_check.value = 1\n",
    "    parity_check.parity = 1"
   ]
  },
  {
   "cell_type": "code",
   "execution_count": null,
   "metadata": {},
   "outputs": [],
   "source": []
  }
 ],
 "metadata": {
  "kernelspec": {
   "display_name": "Python 3",
   "language": "python",
   "name": "python3"
  },
  "language_info": {
   "codemirror_mode": {
    "name": "ipython",
    "version": 3
   },
   "file_extension": ".py",
   "mimetype": "text/x-python",
   "name": "python",
   "nbconvert_exporter": "python",
   "pygments_lexer": "ipython3",
   "version": "3.7.6"
  }
 },
 "nbformat": 4,
 "nbformat_minor": 4
}
