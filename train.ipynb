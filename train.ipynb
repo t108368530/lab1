{
 "cells": [
  {
   "cell_type": "code",
   "execution_count": 171,
   "metadata": {},
   "outputs": [
    {
     "name": "stdout",
     "output_type": "stream",
     "text": [
      "Version:2.2.0 \n",
      "CUDA:True \n",
      "GPU:True\n"
     ]
    }
   ],
   "source": [
    "import tensorflow as tf\n",
    "import numpy as np\n",
    "from utils import change_header\n",
    "from tensorflow.keras import regularizers\n",
    "from tensorflow.keras import optimizers, utils\n",
    "from tensorflow.keras.models import Model, Sequential\n",
    "from tensorflow.keras.layers import (\n",
    "    Activation,\n",
    "    BatchNormalization,\n",
    "    Conv2D,\n",
    "    Conv1D,\n",
    "    Dense,\n",
    "    Dropout,\n",
    "    Flatten,\n",
    "    MaxPooling2D,\n",
    "    MaxPooling1D,\n",
    "    Concatenate,\n",
    "    GlobalAveragePooling2D,\n",
    "    Input,\n",
    ")\n",
    "import re\n",
    "\n",
    "# METHOD = 'Librosa'\n",
    "# train_METHOD = 'Librosa'\n",
    "# test_METHOD = 'Librosa'\n",
    "\n",
    "# METHOD = \"Morphvox_Pro\"\n",
    "# train_METHOD = \"Morphvox_Pro\"\n",
    "# test_METHOD = \"Morphvox_Pro\"\n",
    "\n",
    "# METHOD = \"TD-PSOLA\"\n",
    "# train_METHOD = \"TD-PSOLA\"\n",
    "# test_METHOD = \"TD-PSOLA\"\n",
    "\n",
    "test_METHOD = \"change_header\"\n",
    "\n",
    "# SAMPLE_RATE = 32000\n",
    "# SAMPLE_RATE = 44100 \n",
    "# SAMPLE_RATE = 48000\n",
    "# SAMPLE_RATE = 50000\n",
    "# SAMPLE_RATE = 96000\n",
    "train_dir,test_dir = change_header.gen_dataset_file_path(9000, 13000, 1000,).train_test\n",
    "test_file = test_dir[4]\n",
    "hz = re.findall(r'\\d+',test_file)\n",
    "print(\n",
    "    \"Version:%s\" % tf.__version__,\n",
    "    \"\\nCUDA:%s\" % tf.test.is_built_with_cuda(),\n",
    "    \"\\nGPU:%s\" % tf.test.is_built_with_gpu_support(),\n",
    ")"
   ]
  },
  {
   "cell_type": "code",
   "execution_count": 172,
   "metadata": {},
   "outputs": [],
   "source": [
    "# trainData = np.load(f\"./pre-train/{train_METHOD}/Data-train-{SAMPLE_RATE}.npy\", allow_pickle=True)\n",
    "# trainLabel = np.load(f\"./pre-train/{train_METHOD}/Label-train-{SAMPLE_RATE}.npy\", allow_pickle=True)\n",
    "validData = np.load(\"./pre-valid/Librosa/Data-valid.npy\", allow_pickle=True)\n",
    "validLabel = np.load(\"./pre-valid/Librosa/Label-valid.npy\", allow_pickle=True)\n",
    "pitchShiftTestData = np.load(f\"./pre-test/{test_METHOD}/Data-{test_file}.npy\", allow_pickle=True)\n",
    "pitchShiftTestLabel = np.load(f\"./pre-test/{test_METHOD}/Label-{test_file}.npy\", allow_pickle=True)"
   ]
  },
  {
   "cell_type": "code",
   "execution_count": 173,
   "metadata": {},
   "outputs": [],
   "source": [
    "\n",
    "\n",
    "trainData = np.load(f\"./pre-train/Data-All-change_header.npy\", allow_pickle=True)\n",
    "trainLabel = np.load(f\"./pre-train/Label-All-change_header.npy\", allow_pickle=True)\n",
    "\n",
    "# pitchShiftTestData = np.load(f\"./pre-test/Data-All-{SAMPLE_RATE}.npy\", allow_pickle=True)\n",
    "# pitchShiftTestLabel = np.load(f\"./pre-test/Label-All-{SAMPLE_RATE}.npy\", allow_pickle=True)"
   ]
  },
  {
   "cell_type": "code",
   "execution_count": 174,
   "metadata": {},
   "outputs": [],
   "source": [
    "from sklearn import preprocessing\n",
    "\n",
    "le = preprocessing.LabelEncoder()\n",
    "le.fit(trainLabel)\n",
    "trainLabel = le.transform(trainLabel)\n",
    "validLabel = le.transform(validLabel)\n",
    "pitchShiftTestLabel = le.transform(pitchShiftTestLabel)\n",
    "# le2 = preprocessing.LabelEncoder()\n",
    "# le2.fit(melTrainLabel)\n",
    "# melTrainLabel = le2.transform(melTrainLabel)\n",
    "# melValidLabel = le2.transform(melValidLabel)"
   ]
  },
  {
   "cell_type": "code",
   "execution_count": 101,
   "metadata": {},
   "outputs": [],
   "source": [
    "def mlp(shape: int):\n",
    "    \"\"\"創建多層感知機\n",
    "    \n",
    "    Arguments:\n",
    "        shape {int} -- [矩陣維度]\n",
    "    \n",
    "    Returns:\n",
    "        Sequential \n",
    "    \"\"\"\n",
    "    return Sequential(\n",
    "        [\n",
    "            Dense(256, input_shape=(shape,), activation=\"relu\"),\n",
    "            Dropout(0.5),\n",
    "            Dense(128, activation=\"relu\"),\n",
    "            Dropout(0.5),\n",
    "            Dense(128, activation=\"relu\"),\n",
    "            Dropout(0.5),\n",
    "            Dense(128, activation=\"relu\"),\n",
    "            Dense(64, activation=\"relu\"),\n",
    "            Dense(10, activation=\"softmax\"),\n",
    "        ]\n",
    "    )\n",
    "\n",
    "\n",
    "def cnn(shape: tuple):\n",
    "    \"\"\"創建多層二維迴旋積分\n",
    "    \n",
    "    Arguments:\n",
    "        shape {tuple} -- [矩陣維度]\n",
    "    \n",
    "    Returns:\n",
    "        Sequential \n",
    "    \"\"\"\n",
    "\n",
    "    shape1, shape2, shape3 = shape\n",
    "    inputA = Input((shape2, shape3))\n",
    "    #     inputB = Input((shape2, shape3))\n",
    "    x_1 = Conv1D(filters=64, kernel_size=32, activation=\"relu\", padding=\"same\",kernel_regularizer=regularizers.l1_l2(l1=1e-5, l2=1e-4),)(inputA)\n",
    "    x_1 = MaxPooling1D(pool_size=8, strides=8)(x_1)\n",
    "    x_1 = Dropout(0.5)(x_1)\n",
    "    x_1 = Conv1D(\n",
    "            filters=32, kernel_size=16, strides=4, activation=\"relu\", padding=\"same\",\n",
    "        )(x_1)\n",
    "    #     x_1 = MaxPooling1D(pool_size=4, strides=4)(x_1)\n",
    "    #     x_1 = Dropout(0.5)(x_1)\n",
    "    x_1 = Flatten()(x_1)\n",
    "    x_2 = Conv1D(filters=128, kernel_size=32, activation=\"relu\", padding=\"same\",kernel_regularizer=regularizers.l1_l2(l1=1e-5, l2=1e-4),)(\n",
    "        inputA\n",
    "    )\n",
    "    x_2 = MaxPooling1D(pool_size=4, strides=4)(x_2)\n",
    "    x_2 = Dropout(0.5)(x_2)\n",
    "    x_2 = Conv1D(\n",
    "            filters=64, kernel_size=16, strides=18, activation=\"relu\", padding=\"same\",\n",
    "        )(x_2)\n",
    "    #     x_2 = MaxPooling1D(pool_size=2, strides=2)(x_2)\n",
    "    #     x_2 = Dropout(0.5)(x_2)\n",
    "    x_2 = Flatten()(x_2)\n",
    "\n",
    "    combined = Concatenate()([x_1, x_2])\n",
    "    drop_1 = Dropout(0.7)(combined)\n",
    "    Den_1 = Dense(512, activation=\"relu\",kernel_regularizer=regularizers.l1_l2(l1=1e-5, l2=1e-4),)(drop_1)\n",
    "    Den_2 = Dense(512, activation=\"relu\",kernel_regularizer=regularizers.l1_l2(l1=1e-5, l2=1e-4),)(Den_1)\n",
    "    #     Den_1 = Dropout(0.5)(Den_1)\n",
    "    #     Den_1 = Dense(256, activation=\"relu\")(Den_1)\n",
    "    #     Den_1 = Dropout(0.5)(Den_1)\n",
    "    Den_3 = Dense(10, activation=\"softmax\")(Den_2)\n",
    "    model = Model(inputs=inputA, outputs=Den_3)\n",
    "    return model"
   ]
  },
  {
   "cell_type": "code",
   "execution_count": 105,
   "metadata": {},
   "outputs": [],
   "source": [
    "model = mlp(trainData.shape[1])\n",
    "model.compile(\n",
    "    optimizer=optimizers.Adam(learning_rate=1e-4),\n",
    "    loss=\"categorical_crossentropy\",\n",
    "    metrics=[\"accuracy\"],\n",
    ")"
   ]
  },
  {
   "cell_type": "code",
   "execution_count": 175,
   "metadata": {},
   "outputs": [],
   "source": [
    "trainLabel = utils.to_categorical(trainLabel)\n",
    "validLabel = utils.to_categorical(validLabel)\n",
    "pitchShiftTestLabel = utils.to_categorical(pitchShiftTestLabel)"
   ]
  },
  {
   "cell_type": "code",
   "execution_count": null,
   "metadata": {},
   "outputs": [],
   "source": [
    "# utils.plot_model(\n",
    "#     model, show_shapes=True,\n",
    "# )"
   ]
  },
  {
   "cell_type": "code",
   "execution_count": 107,
   "metadata": {},
   "outputs": [],
   "source": [
    "history = model.fit(\n",
    "    trainData,\n",
    "    trainLabel,\n",
    "    validation_data=(validData, validLabel),\n",
    "    verbose=0,  # 不顯示過程\n",
    "    epochs=500,\n",
    "    batch_size=128,\n",
    ")"
   ]
  },
  {
   "cell_type": "code",
   "execution_count": 108,
   "metadata": {},
   "outputs": [
    {
     "name": "stdout",
     "output_type": "stream",
     "text": [
      "4/4 [==============================] - 0s 959us/step - loss: 0.7469 - accuracy: 0.8700\n"
     ]
    },
    {
     "data": {
      "text/plain": [
       "[0.7469398379325867, 0.8700000047683716]"
      ]
     },
     "execution_count": 108,
     "metadata": {},
     "output_type": "execute_result"
    }
   ],
   "source": [
    "model.evaluate(validData, validLabel)"
   ]
  },
  {
   "cell_type": "code",
   "execution_count": 130,
   "metadata": {},
   "outputs": [
    {
     "name": "stdout",
     "output_type": "stream",
     "text": [
      "4/4 [==============================] - 0s 829us/step - loss: 0.6851 - accuracy: 0.8900\n"
     ]
    },
    {
     "data": {
      "text/plain": [
       "[0.6850888729095459, 0.8899999856948853]"
      ]
     },
     "execution_count": 130,
     "metadata": {},
     "output_type": "execute_result"
    }
   ],
   "source": [
    "model.evaluate(pitchShiftTestData, pitchShiftTestLabel)"
   ]
  },
  {
   "cell_type": "code",
   "execution_count": 112,
   "metadata": {},
   "outputs": [],
   "source": [
    "model2 = cnn(trainData.reshape(3800, 277, 1).shape)\n",
    "model2.compile(\n",
    "    optimizer=optimizers.Adam(learning_rate=1e-4),\n",
    "    loss=\"categorical_crossentropy\",\n",
    "    metrics=[\"accuracy\"],\n",
    ")"
   ]
  },
  {
   "cell_type": "code",
   "execution_count": null,
   "metadata": {},
   "outputs": [],
   "source": [
    "# utils.plot_model(\n",
    "#     model2, show_shapes=True,\n",
    "# )"
   ]
  },
  {
   "cell_type": "code",
   "execution_count": null,
   "metadata": {},
   "outputs": [],
   "source": [
    "history2 = model2.fit(\n",
    "    trainData.reshape(3800, 277, 1),\n",
    "    trainLabel,\n",
    "    validation_data=(validData.reshape(100, 277, 1), validLabel),\n",
    "    verbose=1,  # 不顯示過程\n",
    "    epochs=100,\n",
    "    batch_size=512,\n",
    ")"
   ]
  },
  {
   "cell_type": "code",
   "execution_count": 167,
   "metadata": {},
   "outputs": [
    {
     "name": "stdout",
     "output_type": "stream",
     "text": [
      "4/4 [==============================] - 0s 2ms/step - loss: 0.6315 - accuracy: 0.8900\n"
     ]
    },
    {
     "data": {
      "text/plain": [
       "[0.6314609050750732, 0.8899999856948853]"
      ]
     },
     "execution_count": 167,
     "metadata": {},
     "output_type": "execute_result"
    }
   ],
   "source": [
    "model2.evaluate(validData.reshape(100, 277, 1), validLabel)"
   ]
  },
  {
   "cell_type": "code",
   "execution_count": 168,
   "metadata": {},
   "outputs": [
    {
     "name": "stdout",
     "output_type": "stream",
     "text": [
      "4/4 [==============================] - 0s 2ms/step - loss: 0.8281 - accuracy: 0.8300\n"
     ]
    },
    {
     "data": {
      "text/plain": [
       "[0.8281140923500061, 0.8299999833106995]"
      ]
     },
     "execution_count": 168,
     "metadata": {},
     "output_type": "execute_result"
    }
   ],
   "source": [
    "model2.evaluate(pitchShiftTestData.reshape(100, 277, 1), pitchShiftTestLabel)"
   ]
  },
  {
   "cell_type": "code",
   "execution_count": 176,
   "metadata": {},
   "outputs": [
    {
     "name": "stdout",
     "output_type": "stream",
     "text": [
      "4/4 [==============================] - 0s 1ms/step - loss: 1.0062 - accuracy: 0.8100\n"
     ]
    },
    {
     "data": {
      "image/png": "[encoded data removed]",
      "text/plain": [
       "<Figure size 432x288 with 2 Axes>"
      ]
     },
     "metadata": {
      "needs_background": "light"
     },
     "output_type": "display_data"
    }
   ],
   "source": [
    "import matplotlib.pyplot as plt  \n",
    "import seaborn as sns\n",
    "from sklearn.metrics import confusion_matrix\n",
    "\n",
    "yp=model.predict(pitchShiftTestData)\n",
    "yp=np.argmax(yp,axis=1)\n",
    "yt=np.argmax(pitchShiftTestLabel,axis=1)\n",
    "   \n",
    "\n",
    "ax= plt.subplot()\n",
    "cm=confusion_matrix(yt, yp)\n",
    "sns.heatmap(cm, annot=True, ax = ax)\n",
    "\n",
    "ax.set_xlabel('Predicted Labels')\n",
    "ax.set_ylabel('True Labels') \n",
    "ax.set_title('Confusion Matrix')\n",
    "ax.xaxis.set_ticklabels(['1', '2', '3', '4', '5', '6', '7', '8', '9', '10'])\n",
    "ax.yaxis.set_ticklabels(['1', '2', '3', '4', '5', '6', '7', '8', '9', '10'])\n",
    "loss,acc=model.evaluate(pitchShiftTestData, pitchShiftTestLabel)\n",
    "loss,acc=str(loss)[0:6],str(acc*100)[0:2]"
   ]
  },
  {
   "cell_type": "code",
   "execution_count": 177,
   "metadata": {},
   "outputs": [
    {
     "name": "stdout",
     "output_type": "stream",
     "text": [
      "4/4 [==============================] - 0s 2ms/step - loss: 0.9397 - accuracy: 0.8300\n"
     ]
    },
    {
     "data": {
      "image/png": "[encoded data removed]",
      "text/plain": [
       "<Figure size 432x288 with 2 Axes>"
      ]
     },
     "metadata": {
      "needs_background": "light"
     },
     "output_type": "display_data"
    }
   ],
   "source": [
    "\n",
    "\n",
    "yp=model2.predict(pitchShiftTestData.reshape(100, 277, 1))\n",
    "yp=np.argmax(yp,axis=1)\n",
    "yt=np.argmax(pitchShiftTestLabel,axis=1)\n",
    "   \n",
    "\n",
    "ax= plt.subplot()\n",
    "cm=confusion_matrix(yt, yp)\n",
    "sns.heatmap(cm, annot=True, ax = ax)\n",
    "\n",
    "ax.set_xlabel('Predicted Labels')\n",
    "ax.set_ylabel('True Labels') \n",
    "ax.set_title('Confusion Matrix')\n",
    "ax.xaxis.set_ticklabels(['1', '2', '3', '4', '5', '6', '7', '8', '9', '10'])\n",
    "ax.yaxis.set_ticklabels(['1', '2', '3', '4', '5', '6', '7', '8', '9', '10'])\n",
    "loss2,acc2=model2.evaluate(pitchShiftTestData.reshape(100, 277, 1), pitchShiftTestLabel)\n",
    "loss2,acc2=str(loss2)[0:6],str(acc2*100)[0:2]"
   ]
  },
  {
   "cell_type": "code",
   "execution_count": 178,
   "metadata": {},
   "outputs": [
    {
     "name": "stdout",
     "output_type": "stream",
     "text": [
      "\n",
      "表三十四. 測試資是資取樣頻率為：13000 ,訓練資料為包含：Librosa,Morphvox_Pro,TD-PSOLA,有更改過檔案標頭(合併在一起)\n",
      "|  Model  |         訓練參數          | Valid Data 正確率 | Test Data 正確率 | Loss(Test) |\n",
      "|:-------:|:-------------------------:|:-----------------:|:----------------:|:----------:|\n",
      "| **MLP** | epochs=1000,batch_size=128 |        86%        |       81%        |  1.0061  |\n",
      "| **CNN** | epochs=500,batch_size=128  |        89%        |       82%        | 0.9397   |\n",
      "\n",
      "|      Model       |               **MLP**                |               **CNN**                |\n",
      "|:----------------:|:------------------------------------:|:------------------------------------:|\n",
      "| **Comfusion Matrix** |![](https://i.imgur.com/hqp5AUc.png)|![](https://i.imgur.com/Mcq5n3A.png)|\n",
      "\n"
     ]
    }
   ],
   "source": [
    "temp=f\"\"\"\n",
    "表三十四. 測試資是資取樣頻率為：{hz.pop()} ,訓練資料為包含：Librosa,Morphvox_Pro,TD-PSOLA,有更改過檔案標頭(合併在一起)\n",
    "|  Model  |         訓練參數          | Valid Data 正確率 | Test Data 正確率 | Loss(Test) |\n",
    "|:-------:|:-------------------------:|:-----------------:|:----------------:|:----------:|\n",
    "| **MLP** | epochs=1000,batch_size=128 |        86%        |       {acc}%        |  {loss}  |\n",
    "| **CNN** | epochs=500,batch_size=128  |        89%        |       {acc2}%        | {loss2}   |\n",
    "\n",
    "|      Model       |               **MLP**                |               **CNN**                |\n",
    "|:----------------:|:------------------------------------:|:------------------------------------:|\n",
    "| **Comfusion Matrix** |![](https://i.imgur.com/hqp5AUc.png)|![](https://i.imgur.com/Mcq5n3A.png)|\n",
    "\"\"\"\n",
    "print(temp)"
   ]
  },
  {
   "cell_type": "code",
   "execution_count": null,
   "metadata": {},
   "outputs": [],
   "source": [
    "# trainData = np.load(f\"./pre-train/TD-PSOLA/Data-train.npy\", allow_pickle=True)\n",
    "# trainLabel = np.load(f\"./pre-train/{train_METHOD}/Label-train.npy\", allow_pickle=True)\n",
    "\n",
    "# pitchShiftTestData = np.load(f\"./pre-test/{test_METHOD}/Data-pitchShiftTest.npy\", allow_pickle=True)\n",
    "# pitchShiftTestLabel = np.load(f\"./pre-test/{test_METHOD}/Label-pitchShiftTest.npy\", allow_pickle=True)\n",
    "\n",
    "\n",
    "# trainData = np.load(f\"./pre-train/{train_METHOD}/Data-train.npy\", allow_pickle=True)\n",
    "# trainLabel = np.load(f\"./pre-train/{train_METHOD}/Label-train.npy\", allow_pickle=True)\n",
    "\n",
    "# pitchShiftTestData = np.load(f\"./pre-test/{test_METHOD}/Data-pitchShiftTest.npy\", allow_pickle=True)\n",
    "# pitchShiftTestLabel = np.load(f\"./pre-test/{test_METHOD}/Label-pitchShiftTest.npy\", allow_pickle=True)\n",
    "\n",
    "\n",
    "# trainData = np.load(f\"./pre-train/{train_METHOD}/Data-train.npy\", allow_pickle=True)\n",
    "# trainLabel = np.load(f\"./pre-train/{train_METHOD}/Label-train.npy\", allow_pickle=True)\n",
    "\n",
    "# pitchShiftTestData = np.load(f\"./pre-test/{test_METHOD}/Data-pitchShiftTest.npy\", allow_pickle=True)\n",
    "# pitchShiftTestLabel = np.load(f\"./pre-test/{test_METHOD}/Label-pitchShiftTest.npy\", allow_pickle=True)\n",
    "\n"
   ]
  },
  {
   "cell_type": "code",
   "execution_count": null,
   "metadata": {},
   "outputs": [],
   "source": []
  },
  {
   "cell_type": "code",
   "execution_count": null,
   "metadata": {},
   "outputs": [],
   "source": []
  },
  {
   "cell_type": "code",
   "execution_count": null,
   "metadata": {},
   "outputs": [],
   "source": []
  }
 ],
 "metadata": {
  "kernelspec": {
   "display_name": "Python 3",
   "language": "python",
   "name": "python3"
  },
  "language_info": {
   "codemirror_mode": {
    "name": "ipython",
    "version": 3
   },
   "file_extension": ".py",
   "mimetype": "text/x-python",
   "name": "python",
   "nbconvert_exporter": "python",
   "pygments_lexer": "ipython3",
   "version": "3.8.2"
  }
 },
 "nbformat": 4,
 "nbformat_minor": 4
}
