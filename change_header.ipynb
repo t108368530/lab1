{
 "cells": [
  {
   "cell_type": "code",
   "execution_count": null,
   "metadata": {},
   "outputs": [],
   "source": [
    "from utils.tools import change_wav_hader\n",
    "import wave\n",
    "from os import listdir"
   ]
  },
  {
   "cell_type": "code",
   "execution_count": null,
   "metadata": {},
   "outputs": [],
   "source": [
    "from utils.tools import change_wav_hader\n",
    "from os import listdir\n",
    "SAMPLE_RATE = [ i for i in range(8000,14000,1000)]\n",
    "\n",
    "\n",
    "dirName = [\"train\", \"pitchShiftTest\"]\n",
    "\n",
    "\n",
    "Folders:list = [sorted(listdir(f\"./{dirName[0]}/\")),sorted(listdir(f\"./{dirName[1]}/\"))]\n",
    "DATA: dict = {}\n",
    "for s in SAMPLE_RATE :\n",
    "    DATA[f\"{dirName[0]}{s}\"] = []\n",
    "    DATA[f\"{dirName[1]}{s}\"] = []"
   ]
  },
  {
   "cell_type": "code",
   "execution_count": null,
   "metadata": {},
   "outputs": [],
   "source": [
    "for sampleRate in SAMPLE_RATE:\n",
    "    for dirn in dirName:\n",
    "        for folder in Folders:\n",
    "            for fd in folder:\n",
    "                files = listdir(f\"./{dirn}{sampleRate}/\" + fd)\n",
    "                for file in files:\n",
    "                    path = f\"./{dirn}{sampleRate}/\" + fd + \"/\" + file\n",
    "                    change_wav_hader(path ,sampleRate)\n"
   ]
  },
  {
   "cell_type": "code",
   "execution_count": null,
   "metadata": {},
   "outputs": [],
   "source": []
  }
 ],
 "metadata": {
  "kernelspec": {
   "display_name": "Python 3",
   "language": "python",
   "name": "python3"
  },
  "language_info": {
   "codemirror_mode": {
    "name": "ipython",
    "version": 3
   },
   "file_extension": ".py",
   "mimetype": "text/x-python",
   "name": "python",
   "nbconvert_exporter": "python",
   "pygments_lexer": "ipython3",
   "version": "3.8.2"
  }
 },
 "nbformat": 4,
 "nbformat_minor": 4
}
